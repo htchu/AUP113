{
  "cells": [
    {
      "cell_type": "markdown",
      "metadata": {
        "id": "NmNGnQFiHXY5"
      },
      "source": [
        "# AUP111_M3期末補考(A)"
      ]
    },
    {
      "cell_type": "markdown",
      "metadata": {
        "id": "l3-JGMv4L-jg"
      },
      "source": [
        "### Q1. 亂數選號程式\n",
        "\n",
        "問題描述：\n",
        "請設計一樂透亂數選號程式，由1~54 中選出8 個不重覆的數字組合並輸出。\n",
        "請使用以下方式：\n",
        "```\n",
        "import random\n",
        "random.seed(10) #seed() 就是設定亂數種子，可以使每次跑出的亂數序列，都會是一樣的。\n",
        "print(random.randint(0, 54)) #randint(begin, end) 隨機選取一個數字\n",
        "```\n",
        "輸入說明：輸入seed。\n",
        "輸出說明：由1~54 中選出6 個不重覆的數字組合並輸出，數字間請以tab 作為間格，最後必須有\n",
        "換行字元。\n",
        "\n",
        "| Sample Input:   |      Sample Output:      |\n",
        "|:----------------|:-------------------------|\n",
        "|2023 | 25 46 30 26 21 44 41 23 ⏎ |"
      ]
    },
    {
      "cell_type": "code",
      "execution_count": null,
      "metadata": {
        "id": "G7MAu2tlImM_",
        "vscode": {
          "languageId": "python"
        }
      },
      "outputs": [],
      "source": [
        "#程式由此開始\n"
      ]
    },
    {
      "cell_type": "markdown",
      "metadata": {
        "id": "qIultu8BMAus"
      },
      "source": [
        "### Q2. 陣列行列互換\n",
        "\n",
        "問題描述：宣告一個4*7 的二維整數陣列，使用者輸入陣列元素(0~100)，並將行列互換輸出。\n",
        "\n",
        "輸入說明：輸入陣列元素(0~100)。\n",
        "\n",
        "輸出說明：行列互換輸出，數字以tab 間格，最後必須有換行字元。\n",
        "\n",
        "| Sample Input:   |      Sample Output:      |\n",
        "|:----------------|:-------------------------|\n",
        "|81 7 7 10 97 0 97 |81 90 9 28|\n",
        "|90 67 8 25 1 39 34|7 67 54 8 |\n",
        "|9 54 63 53 53 55 77|7 8 63 17|\n",
        "|28 8 17 50 41 99 89|10 25 53 50 |\n",
        "| |97 1 53 41 |\n",
        "|  | 0 39 55 99   |\n",
        "|  |97 34 77 89 ⏎ |"
      ]
    },
    {
      "cell_type": "code",
      "execution_count": null,
      "metadata": {
        "id": "Or-nYqhUInLu",
        "vscode": {
          "languageId": "python"
        }
      },
      "outputs": [],
      "source": [
        "#程式由此開始\n"
      ]
    },
    {
      "cell_type": "markdown",
      "metadata": {
        "id": "MN2nDavOcWpY"
      },
      "source": [
        "### Q3. 連續元素相乘極大值\n",
        "問題描述：\n",
        "一個整數陣列中有正數、負數與 0。請寫一程式找出這個陣列中連續的元素相乘的極大值。\n",
        "\n",
        "輸入說明：\n",
        "輸入 N 個元素的數列。。\n",
        "\n",
        "輸出說明：\n",
        "輸出陣列中連續元素相乘的最大值，最後必須有換行字元。\n",
        "\n",
        "範例：\n",
        "\n",
        "| Sample Input:   |      Sample Output:      |\n",
        "|:----------------|:-------------------------|\n",
        "|1 2 4 -4 9 7 |63⏎|"
      ]
    },
    {
      "cell_type": "code",
      "execution_count": null,
      "metadata": {
        "id": "gTjzpgkegJkz",
        "vscode": {
          "languageId": "python"
        }
      },
      "outputs": [],
      "source": [
        "#程式由此開始\n"
      ]
    },
    {
      "cell_type": "markdown",
      "metadata": {
        "id": "21njLIiCIE37"
      },
      "source": [
        "### Q4. 連續元素和0\n",
        "問題描述：\n",
        "一個整數陣列中有正數、負數與 0，而且元素也不重複。請寫一程式找出這個陣列中\n",
        "連續的若干元素，其和為 0。例如：1、2、3、-5、4 中， 2、3、-5 和為 0。\n",
        "\n",
        "輸入說明：\n",
        "分別輸入陣列大小N 及具有N 個元素的數列。\n",
        "\n",
        "輸出說明：\n",
        "請找出陣列連續的若干元素其和為 0，並輸出結果，數字以空白間格，最後必須有換\n",
        "行字元。\n",
        "\n",
        "| Sample Input:   |      Sample Output:      |\n",
        "|:----------------|:-------------------------|\n",
        "| 1 2 3 -5 4  | 2 3 -5 ⏎|"
      ]
    },
    {
      "cell_type": "code",
      "execution_count": null,
      "metadata": {
        "id": "0ohsTBWrIHP1",
        "vscode": {
          "languageId": "python"
        }
      },
      "outputs": [],
      "source": [
        "#程式由此開始\n"
      ]
    },
    {
      "cell_type": "markdown",
      "metadata": {
        "id": "u1uXXKNJIMEs"
      },
      "source": [
        "### Q5. 萬年曆\n",
        "\n",
        "問題描述：\n",
        "請設計一個萬年曆,可以輸入任意年份(year)及月份(month)，印出該月份月曆。\n",
        "以 2001 年 3 月份為例，格式如下：\n",
        "\n",
        "| SU MO TU WE TH FR SA |\n",
        "|:-------------------------|\n",
        "|&nbsp;&nbsp;&nbsp;&nbsp;&nbsp;&nbsp;&nbsp;&nbsp;&nbsp;&nbsp;&nbsp;&nbsp;&nbsp;&nbsp;&nbsp;&nbsp;&nbsp;&nbsp;&nbsp;&nbsp;&nbsp;&nbsp;&nbsp;&nbsp;&nbsp;&nbsp;&nbsp;&nbsp;1&nbsp;&nbsp;&nbsp; 2&nbsp;&nbsp;&nbsp; 3|\n",
        "|&nbsp;&nbsp;4 &nbsp;&nbsp;&nbsp;5 &nbsp;&nbsp;&nbsp;6 &nbsp;&nbsp;&nbsp;7 &nbsp;&nbsp;&nbsp;8 &nbsp;&nbsp;&nbsp;9&nbsp;&nbsp; 10|\n",
        "|11&nbsp; 12 &nbsp;13 &nbsp;14&nbsp; 15 &nbsp;16&nbsp; 17|\n",
        "|18&nbsp; 19 &nbsp;20 &nbsp;21 &nbsp;22 &nbsp;23 &nbsp;24|\n",
        "|25&nbsp; 26&nbsp; 27&nbsp; 28&nbsp; 29&nbsp; 30&nbsp; 31|\n",
        "\n",
        "1. 一年中每月日數如下表，潤年二月份29 日、平年28 日\n",
        "\n",
        "| 月份  |  1 | 2  |  3 | 4  |  5 | 6  |  7 | 8  | 9 | 10  | 11 | 12 |\n",
        "|---|---|---|---|---|---|---|---|---|---|---|---|---|\n",
        "| 日數  |31| 28| 31| 30| 31| 30| 31| 31| 30| 31| 30| 31  |\n",
        "\n",
        "2. 潤年之判斷為 4 年一潤，逢 100 年不潤，逢 400 年又潤\n",
        "3. 故西元 1 年 1 月 1 日為星期一，而一年有 52 個星期零 1 天，故西元 2 年 1\n",
        "月 1 日為星期二，以此類推)\n",
        "\n",
        "輸入說明：\n",
        "輸入年份(year)及月份(month)。\n",
        "\n",
        "輸出說明：\n",
        "輸出該月份月曆，每個數字間請以tab 間格，最後必須有換行字元。\n",
        "\n",
        "\n",
        "| Sample Input:   |      Sample Output:      |\n",
        "|:----------------|:-------------------------|\n",
        "| 2023 1 | SU MO TU WE TH FR SA |\n",
        "||&nbsp;&nbsp;1 &nbsp;&nbsp; 2 &nbsp;&nbsp; 3 &nbsp;&nbsp; 4 &nbsp;&nbsp;5&nbsp;&nbsp; 6&nbsp;&nbsp; 7|\n",
        "||&nbsp;&nbsp;8 &nbsp;&nbsp;9 &nbsp;&nbsp;10 &nbsp;&nbsp;11 &nbsp;&nbsp;12 &nbsp;&nbsp;13&nbsp;&nbsp; 14|\n",
        "||15&nbsp;&nbsp; 16 &nbsp;&nbsp;17 &nbsp;&nbsp;18&nbsp; &nbsp;19 &nbsp;&nbsp;20&nbsp;&nbsp; 21|\n",
        "||22&nbsp;&nbsp; 23 &nbsp;&nbsp;24 &nbsp;&nbsp;25 &nbsp;&nbsp;26 &nbsp;&nbsp;27 &nbsp;&nbsp;28|\n",
        "||29&nbsp;&nbsp; 30&nbsp;&nbsp; 31&nbsp;  ⏎|"
      ]
    },
    {
      "cell_type": "code",
      "execution_count": null,
      "metadata": {
        "id": "M_qYgMu2IQ9p",
        "vscode": {
          "languageId": "python"
        }
      },
      "outputs": [],
      "source": [
        "#程式由此開始"
      ]
    },
    {
      "cell_type": "markdown",
      "metadata": {
        "id": "xWNhaLC_cbSr"
      },
      "source": [
        "### Q6. 遞迴程式練習\n",
        "\n",
        "問題描述：\n",
        "給定下列遞迴函式：\n",
        "\\begin{cases}\n",
        "f(n)=n+1 \\:when\\:  n=1\\\\\n",
        "f(n)=f(n-1) + f(\\lfloor n/2\\rfloor) \\:when\\:  n>1\n",
        "\\end{cases}\n",
        "\n",
        "\n",
        "請計算出$𝑓(n)$。\n",
        "\n",
        "輸入說明：\n",
        "輸入值為一個大於1 的整數𝑛。\n",
        "\n",
        "輸出說明：\n",
        "輸出$𝑓(n)$計算結果，最後必須有換行字元。\n",
        "\n",
        "範例：\n",
        "\n",
        "| Sample Input:   |      Sample Output:      |\n",
        "|:----------------|:-------------------------|\n",
        "|10 |60⏎|\n",
        "|12 |94⏎|"
      ]
    },
    {
      "cell_type": "code",
      "execution_count": null,
      "metadata": {
        "id": "zLc1u1zsJGWl",
        "vscode": {
          "languageId": "python"
        }
      },
      "outputs": [],
      "source": [
        "#程式由此開始\n"
      ]
    },
    {
      "cell_type": "markdown",
      "metadata": {
        "id": "PNofXDG_ccLZ"
      },
      "source": [
        "### Q7. 撲克牌大小\n",
        "\n",
        "問題描述：\n",
        "撲克牌的遊戲有很多種，像是大老二、撿紅點等。然而，現在您要參與的是比大小遊\n",
        "戲，每張牌各有其花色和數字，大小比較主要以花色為主，黑桃 > 紅心 > 方塊 > 梅\n",
        "花；倘若花色相同時，則比較數字。\n",
        "\n",
        "輸入說明：\n",
        "第一列的整數，代表撲克牌的疊數，其後有若干列，每列即為一疊牌的內容，每張牌\n",
        "分別以英文、數字作表示，其中 S 代表黑桃、 H 代表紅心、 D 代表方塊、 C 代表\n",
        "梅花。每筆資料分別以空白隔開。\n",
        "\n",
        "輸出說明：\n",
        "印出排列過後的撲克牌。一行是一疊牌， 每張牌以空白隔開，最後必須有換行字元。\n",
        "\n",
        "\n",
        "\n",
        "範例：\n",
        "\n",
        "| Sample Input:   |      Sample Output:      |\n",
        "|:----------------|:-------------------------|\n",
        "|4|S2 H5 D4 C13|\n",
        "|H5 D4 S2 C13|S3 H7 D10 D8 C12|\n",
        "|D8 S3 D10 C12 H7 |S3 H6|\n",
        "|H6 S3 |S1 D11 C5|\n",
        "|C5 D11 S1 |⏎ |"
      ]
    },
    {
      "cell_type": "code",
      "execution_count": null,
      "metadata": {
        "id": "IDxxixHnKR7o",
        "vscode": {
          "languageId": "python"
        }
      },
      "outputs": [],
      "source": [
        "#程式由此開始\n",
        " "
      ]
    },
    {
      "cell_type": "markdown",
      "metadata": {
        "id": "nNDrDtUMMUEB"
      },
      "source": [
        "### Q8. 圈圈叉叉(井字遊戲)\n",
        "\n",
        "問題描述：\n",
        "OX遊戲(井字遊戲)是大家小時候的童年記憶，甚至在長大後，無聊時還是會玩一下呢 ! 但當你\n",
        "一個人時，是否也能讓電腦跟你玩呢 ?\n",
        "\n",
        "輸入說明：\n",
        "輸入一個 3*3 的 2 維矩陣，矩陣內容， 0 代表 O ， 1 代表 X 。註：每列數字之\n",
        "間均有空格隔開。\n",
        "\n",
        "輸出說明：\n",
        "輸出這場 OX 遊戲是否有勝負之分，最後必須有換行字元。\n",
        "\n",
        "| Sample Input:   |      Sample Output:      |\n",
        "|:----------------|:-------------------------|\n",
        "|1 0 1 | True⏎   |\n",
        "|0 0 1||\n",
        "|1 0 0||\n",
        "|1 0 0|False⏎ |\n",
        "|0 1 1||\n",
        "|0 1 0||"
      ]
    },
    {
      "cell_type": "code",
      "execution_count": null,
      "metadata": {
        "id": "iEYC2sk_MU4O",
        "vscode": {
          "languageId": "python"
        }
      },
      "outputs": [],
      "source": [
        "#程式由此開始\n"
      ]
    }
  ],
  "metadata": {
    "colab": {
      "provenance": [],
      "toc_visible": true
    },
    "kernelspec": {
      "display_name": "Python 3",
      "name": "python3"
    }
  },
  "nbformat": 4,
  "nbformat_minor": 0
}