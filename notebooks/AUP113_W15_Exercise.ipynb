{
  "cells": [
    {
      "cell_type": "markdown",
      "metadata": {
        "id": "NmNGnQFiHXY5"
      },
      "source": [
        "# AU Fundamentals of Python Programming-111-Ex15"
      ]
    },
    {
      "cell_type": "markdown",
      "metadata": {
        "id": "xWNhaLC_cbSr"
      },
      "source": [
        "### M3Q17 遞迴程式練習\n",
        "\n",
        "問題描述：\n",
        "給定下列遞迴函式：\n",
        "\\begin{cases}\n",
        "f(n)=n+1 \\:when\\:  n=1\\\\\n",
        "f(n)=f(n-1) + f(\\lfloor n/2\\rfloor) \\:when\\:  n>1\n",
        "\\end{cases}\n",
        "\n",
        "\n",
        "請計算出$𝑓(n)$。\n",
        "\n",
        "輸入說明：\n",
        "輸入值為一個大於1 的整數𝑛。\n",
        "\n",
        "輸出說明：\n",
        "輸出$𝑓(n)$計算結果，最後必須有換行字元。\n",
        "\n",
        "範例：\n",
        "\n",
        "| Sample Input:   |      Sample Output:      |\n",
        "|:----------------|:-------------------------|\n",
        "|10 |60⏎|\n",
        "|12 |94⏎|"
      ]
    },
    {
      "cell_type": "markdown",
      "metadata": {
        "id": "75TGR3wZEI0C"
      },
      "source": [
        "<font size=\"10\">&#x0210B;</font>int(祕技):\n",
        "\n",
        "__Input:__ 輸入是1個整數\n",
        "\n",
        "__Process:__ 遞迴函數是函數的定義中會呼叫函數本身\n",
        "\n",
        "__Output:__"
      ]
    },
    {
      "cell_type": "code",
      "execution_count": null,
      "metadata": {
        "id": "zLc1u1zsJGWl",
        "vscode": {
          "languageId": "python"
        }
      },
      "outputs": [],
      "source": [
        "#程式由此開始\n"
      ]
    },
    {
      "cell_type": "markdown",
      "metadata": {
        "id": "PNofXDG_ccLZ"
      },
      "source": [
        "### M3Q18 撲克牌大小\n",
        "\n",
        "問題描述：\n",
        "撲克牌的遊戲有很多種，像是大老二、撿紅點等。然而，現在您要參與的是比大小遊\n",
        "戲，每張牌各有其花色和數字，大小比較主要以花色為主，黑桃 > 紅心 > 方塊 > 梅\n",
        "花；倘若花色相同時，則比較數字。\n",
        "\n",
        "輸入說明：\n",
        "第一列的整數，代表撲克牌的疊數，其後有若干列，每列即為一疊牌的內容，每張牌\n",
        "分別以英文、數字作表示，其中 S 代表黑桃、 H 代表紅心、 D 代表方塊、 C 代表\n",
        "梅花。每筆資料分別以空白隔開。\n",
        "\n",
        "輸出說明：\n",
        "印出排列過後的撲克牌。一行是一疊牌， 每張牌以空白隔開，最後必須有換行字元。\n",
        "\n",
        "\n",
        "\n",
        "範例：\n",
        "\n",
        "| Sample Input:   |      Sample Output:      |\n",
        "|:----------------|:-------------------------|\n",
        "|4|S2 H5 D4 C13|\n",
        "|H5 D4 S2 C13|S3 H7 D10 D8 C12|\n",
        "|D8 S3 D10 C12 H7 |S3 H6|\n",
        "|H6 S3 |S1 D11 C5|\n",
        "|C5 D11 S1 |⏎ |"
      ]
    },
    {
      "cell_type": "markdown",
      "metadata": {
        "id": "0yUVbrKJEJ3g"
      },
      "source": [
        "<font size=\"10\">&#x0210B;</font>int(祕技):\n",
        "\n",
        "__Input:__ 輸入是數排的文字和數字組合\n",
        "\n",
        "__Process:__ 計算時需拆解 \"H\", \"D\", \"S\", 和\"C\"，轉換成數字\n",
        "\n",
        "__Output:__"
      ]
    },
    {
      "cell_type": "code",
      "execution_count": null,
      "metadata": {
        "id": "IDxxixHnKR7o",
        "vscode": {
          "languageId": "python"
        }
      },
      "outputs": [],
      "source": [
        "#程式由此開始\n",
        " "
      ]
    },
    {
      "cell_type": "markdown",
      "metadata": {
        "id": "2rECmT30cdJB"
      },
      "source": [
        "### M3Q19 判斷是否為迴文\n",
        "問題描述：\n",
        "迴文是指從前面讀和從後面讀都相同的一個數字或一段文字。例如下列輸入都是迴文：\n",
        "\n",
        "123321、qwerewq、123ewqqwe321。請撰寫一個程式，判斷它是否迴文。\n",
        "\n",
        "輸入說明：\n",
        "輸入一個字串。\n",
        "\n",
        "輸出說明：\n",
        "迴文印出YES、非迴文印出NO，最後必須有換行字元。\n",
        "\n",
        "\n",
        "範例：\n",
        "\n",
        "| Sample Input:   |      Sample Output:      |\n",
        "|:----------------|:-------------------------|\n",
        "|123321|YES⏎|\n",
        "|1556551|YES⏎|\n",
        "|1244221|NO⏎|"
      ]
    },
    {
      "cell_type": "markdown",
      "metadata": {
        "id": "5b-qRu1jEMBg"
      },
      "source": [
        "<font size=\"10\">&#x0210B;</font>int(祕技):\n",
        "\n",
        "__Input:__ 輸入是1個字串\n",
        "\n",
        "__Process:__\n",
        "\n",
        "__Output:__"
      ]
    },
    {
      "cell_type": "code",
      "execution_count": null,
      "metadata": {
        "id": "ZP2s1q3qPMkI",
        "vscode": {
          "languageId": "python"
        }
      },
      "outputs": [],
      "source": [
        "#程式由此開始\n"
      ]
    },
    {
      "cell_type": "markdown",
      "metadata": {
        "id": "A2HltRxXceML"
      },
      "source": [
        "### M3Q20 文字及字母出現次數\n",
        "問題描述：\n",
        "在電腦科學上 ，計算一串文字上各個字母出現的頻率是常被用到的技術，這對壓縮來\n",
        "講是很重要的資訊，而計算字數也可以幫助人們作校正的工具。一行文字被空白、逗\n",
        "點或是句點所分隔而形成很多字，例如“I have a pencil.” 這行字就有I、have、a、pencil\n",
        "這四個字，即此行字數為 4 。所以現在要請你幫忙設計一個程式來計算一行文字的字\n",
        "數及各個字母出現的次數。\n",
        "\n",
        "輸入說明：\n",
        "輸入一行正常的英文文字，也就是不要有開頭是空白或是有連續兩個 空白的情形發生，\n",
        "並且內容只能包含英文字母、空白、逗點、句點。 注意 : 輸入的字串長度最多是 100 。\n",
        "\n",
        "輸出說明：\n",
        "第一行輸出一個正整數 n ，表示此行文字的字數。 第二行開始依序輸出在此行文字\n",
        "中有出現的字母及出現的次數，最後必須有換行字元。\n",
        "注意 : 大小寫要分開計算。\n",
        "\n",
        "\n",
        "範例：\n",
        "\n",
        "| Sample Input:   |      Sample Output:      |\n",
        "|:----------------|:-------------------------|\n",
        "|I had a dog |4|\n",
        "||I=1|\n",
        "||a=2|\n",
        "||d=2|\n",
        "||g=1|\n",
        "||h=1|\n",
        "||o=1⏎|"
      ]
    },
    {
      "cell_type": "markdown",
      "metadata": {
        "id": "3aUNOGvLENjt"
      },
      "source": [
        "<font size=\"10\">&#x0210B;</font>int(祕技):\n",
        "\n",
        "__Input:__ 輸入是1個字串，切成幾個字\n",
        "\n",
        "__Process:__\n",
        "\n",
        "__Output:__"
      ]
    },
    {
      "cell_type": "code",
      "execution_count": null,
      "metadata": {
        "id": "G6uCyfLbQJgs",
        "vscode": {
          "languageId": "python"
        }
      },
      "outputs": [],
      "source": [
        "#程式由此開始\n"
      ]
    },
    {
      "cell_type": "markdown",
      "metadata": {
        "id": "nNDrDtUMMUEB"
      },
      "source": [
        "### M3Q21. 圈圈叉叉\n",
        "\n",
        "問題描述：\n",
        "OX 遊戲是大家小時候的童年記憶，甚至在長大後，無聊時還是會玩一下呢 ! 但當你\n",
        "一個人時，是否也能讓電腦跟你玩呢 ?\n",
        "\n",
        "輸入說明：\n",
        "輸入一個 3*3 的 2 維矩陣，矩陣內容， 0 代表 O ， 1 代表 X 。註：每列數字之\n",
        "間均有空格隔開。\n",
        "\n",
        "輸出說明：\n",
        "輸出這場 OX 遊戲是否有勝負之分，最後必須有換行字元。\n",
        "\n",
        "| Sample Input:   |      Sample Output:      |\n",
        "|:----------------|:-------------------------|\n",
        "|1 0 1 | True⏎   |\n",
        "|0 0 1||\n",
        "|1 0 0||\n",
        "|1 0 0|False⏎ |\n",
        "|0 1 1||\n",
        "|0 1 0||"
      ]
    },
    {
      "cell_type": "markdown",
      "metadata": {
        "id": "Qy8oFF4GEO2u"
      },
      "source": [
        "<font size=\"10\">&#x0210B;</font>int(祕技):\n",
        "\n",
        "__Input:__ 輸入是三行的3個數字, \n",
        "\n",
        "__Process:__\n",
        "\n",
        "__Output:__"
      ]
    },
    {
      "cell_type": "code",
      "execution_count": null,
      "metadata": {
        "id": "iEYC2sk_MU4O",
        "vscode": {
          "languageId": "python"
        }
      },
      "outputs": [],
      "source": [
        "#程式由此開始\n"
      ]
    }
  ],
  "metadata": {
    "colab": {
      "provenance": [],
      "toc_visible": true
    },
    "kernelspec": {
      "display_name": "Python 3",
      "name": "python3"
    }
  },
  "nbformat": 4,
  "nbformat_minor": 0
}