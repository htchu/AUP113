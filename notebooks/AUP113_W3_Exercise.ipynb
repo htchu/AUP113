{
 "cells": [
  {
   "cell_type": "markdown",
   "metadata": {
    "id": "9BqahVUKa41l"
   },
   "source": [
    "# AU Fundamentals of Python Programming-111-Exercise"
   ]
  },
  {
   "cell_type": "markdown",
   "metadata": {
    "id": "sHz28TyhbKFD"
   },
   "source": [
    "## M1 Problems:Q01-Q05"
   ]
  },
  {
   "cell_type": "markdown",
   "metadata": {
    "id": "-fcHJRbWmL5B"
   },
   "source": [
    "### M1-Q01 單位換算：英哩轉公里\n",
    "(時間限制：2秒)\n",
    "\n",
    "問題描述：\n",
    "試撰寫一程式，可由鍵盤輸入英哩(float)，程式的輸出為公里(float)，其轉換公式如下： 1 英哩 = 1.6 公里\n",
    "\n",
    "輸入說明：\n",
    "輸入欲轉換之英哩數(float)。\n",
    "\n",
    "輸出說明：\n",
    "輸出公里(float)，取到小數點以下第二位，最後必須有換行字元。\n",
    "\n",
    "範例：\n",
    "\n",
    "| Sample Input:   |      Sample Output:      |\n",
    "|:----------------|:-------------------------|\n",
    "|90.8|145.28⏎ |\n",
    "|95.4|152.64⏎ |\n"
   ]
  },
  {
   "cell_type": "markdown",
   "metadata": {
    "id": "9lu6JEEUGV9D"
   },
   "source": [
    "<font size=\"10\">&#x0210B;</font>int(祕技):\n",
    "\n",
    "__Input:__ 使用float()函數將輸入的字串轉換成float變數\n",
    "\n",
    "__Process:__ 簡單的乘法計算\n",
    "\n",
    "__Output:__ 取到小數點以下第二位的格式是.2f"
   ]
  },
  {
   "cell_type": "code",
   "execution_count": null,
   "metadata": {
    "id": "JsU6ABHQmuEx"
   },
   "outputs": [],
   "source": [
    "#程式由此開始寫\n"
   ]
  },
  {
   "cell_type": "markdown",
   "metadata": {
    "id": "-rwzf76umuvd"
   },
   "source": [
    "### M1-Q02 攝氏轉華氏溫度 \n",
    "(時間限制：2 秒)\n",
    "問題描述：\n",
    "讓使用者輸入一攝氏溫度，輸出相對應的華氏溫度。\n",
    "F=C×9/5+32\n",
    "\n",
    "輸入說明： \n",
    "輸入一攝氏溫度(float)。\n",
    "\n",
    "輸出說明： \n",
    "輸出相對應的華氏溫度(float)，計算到小數第2位四捨五入，最後必須有換行字元。\n",
    "\n",
    "範例：\n",
    "\n",
    "| Sample Input:   |      Sample Output:      |\n",
    "|:----------------|:-------------------------|\n",
    "|30.8|87.44⏎ |\n",
    "|16.9|62.42⏎ |\n"
   ]
  },
  {
   "cell_type": "markdown",
   "metadata": {
    "id": "Z4fFz58YGcSt"
   },
   "source": [
    "<font size=\"10\">&#x0210B;</font>int(祕技):\n",
    "\n",
    "__Input:__ 使用float()函數將輸入的字串轉換成float變數\n",
    "\n",
    "__Process:__ 簡單的加減乘除法計算\n",
    "\n",
    "__Output:__ 取到小數點以下第二位的格式是.2f"
   ]
  },
  {
   "cell_type": "code",
   "execution_count": null,
   "metadata": {
    "id": "TZkvGGb1p9pp"
   },
   "outputs": [],
   "source": [
    "#程式由此開始寫\n"
   ]
  },
  {
   "cell_type": "markdown",
   "metadata": {
    "id": "3S8g4eTxm03K"
   },
   "source": [
    "### M1-Q03 合、差及乘積\n",
    "(時間限制：2 秒)\n",
    "問題描述：\n",
    "輸入兩個整數，計算其合、差及乘積。\n",
    "\n",
    "輸入說明：\n",
    "輸入兩個整數(int)。\n",
    "\n",
    "輸出說明：\n",
    "輸出兩個整數的合(int)、差(int)及乘積(int)，最後必須有換行字元。\n",
    "\n",
    "範例：\n",
    "\n",
    "| Sample Input:   |      Sample Output:      |\n",
    "|:----------------|:-------------------------|\n",
    "|8   |17 |\n",
    "|9   |-1 |\n",
    "||72⏎ |\n",
    "\n"
   ]
  },
  {
   "cell_type": "markdown",
   "metadata": {
    "id": "YKUwVSMqGd5H"
   },
   "source": [
    "<font size=\"10\">&#x0210B;</font>int(祕技):\n",
    "\n",
    "__Input:__ 使用int()函數將輸入的字串轉換成整數變數\n",
    "\n",
    "__Process:__ 簡單的加減乘除法計算\n",
    "\n",
    "__Output:__ 套用f-string"
   ]
  },
  {
   "cell_type": "code",
   "execution_count": null,
   "metadata": {
    "id": "nL-FXDYHGez6"
   },
   "outputs": [],
   "source": [
    "#程式由此開始寫\n"
   ]
  },
  {
   "cell_type": "markdown",
   "metadata": {
    "id": "igQw_i65m48N"
   },
   "source": [
    "### M1-Q04 總分及平均成績 \n",
    "(時間限制：2 秒)\n",
    "問題描述： \n",
    "輸入國文、英文和數學成績，計算其總分數及平均成績。\n",
    "\n",
    "輸入說明： \n",
    "輸入國文(int)、英文(int)和數學(int)成績。\n",
    "\n",
    "輸出說明：\n",
    "輸出總分數及四捨五入後的平均成績(int)，最後必須有換行字元。\n",
    "\n",
    "範例：\n",
    "\n",
    "| Sample Input:   |      Sample Output:      |\n",
    "|:----------------|:-------------------------|\n",
    "|80| 210|\n",
    "|70|70⏎ |\n",
    "|60||"
   ]
  },
  {
   "cell_type": "markdown",
   "metadata": {
    "id": "GO6r2MpmGiFd"
   },
   "source": [
    "<font size=\"10\">&#x0210B;</font>int(祕技):\n",
    "\n",
    "__Input:__ 使用int()函數將輸入的字串轉換成整數變數\n",
    "\n",
    "__Process:__ 簡單的加法和整數除法計算\n",
    "\n",
    "__Output:__ 套用f-string"
   ]
  },
  {
   "cell_type": "code",
   "execution_count": null,
   "metadata": {
    "id": "zOSd84VIm8wr"
   },
   "outputs": [],
   "source": [
    "#程式由此開始寫\n"
   ]
  },
  {
   "cell_type": "markdown",
   "metadata": {
    "id": "F5VMDhGWm9JJ"
   },
   "source": [
    "### M1-Q05 單位換算：身高及體重 \n",
    "(時間限制：2 秒)\n",
    "\n",
    "問題描述： \n",
    "寫一程式，讓使用者輸入身高(cm)及體重(kg)，作單位換算輸出身高(英吋)及體重(磅)。(1 磅=0.454 公斤，1 吋=2.54 公分)\n",
    "\n",
    "輸入說明： \n",
    "分別輸入身高(cm)(int)及體重(kg)(int)。\n",
    "\n",
    "輸出說明： \n",
    "作單位換算輸出身高(英吋)(float)及體重(磅)(float)，最後必須有換行字元。\n",
    "\n",
    "範例：\n",
    "\n",
    "| Sample Input:   |      Sample Output:      |\n",
    "|:----------------|:-------------------------|\n",
    "|180   85| 70.86614173228347|\n",
    "||187.22466960352423⏎ |"
   ]
  },
  {
   "cell_type": "markdown",
   "metadata": {
    "id": "A5Mb9IpJGjUB"
   },
   "source": [
    "<font size=\"10\">&#x0210B;</font>int(祕技):\n",
    "\n",
    "__Input:__ 使用split()函數將輸入的字串切成二個變數 paras[0], paras[1]\n",
    "\n",
    "__Process:__ 簡單的除法計算\n",
    "\n",
    "__Output:__ 套用f-string"
   ]
  },
  {
   "cell_type": "code",
   "execution_count": null,
   "metadata": {
    "id": "O0qPFGRbnG3v"
   },
   "outputs": [],
   "source": [
    "#程式由此開始寫\n"
   ]
  }
 ],
 "metadata": {
  "colab": {
   "collapsed_sections": [],
   "name": "AUP110_M1Problems(32).ipynb",
   "provenance": [],
   "toc_visible": true
  },
  "kernelspec": {
   "display_name": "Python 3 (ipykernel)",
   "language": "python",
   "name": "python3"
  },
  "language_info": {
   "codemirror_mode": {
    "name": "ipython",
    "version": 3
   },
   "file_extension": ".py",
   "mimetype": "text/x-python",
   "name": "python",
   "nbconvert_exporter": "python",
   "pygments_lexer": "ipython3",
   "version": "3.9.7"
  }
 },
 "nbformat": 4,
 "nbformat_minor": 1
}
