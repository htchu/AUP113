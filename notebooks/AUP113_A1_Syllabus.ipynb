{
  "cells": [
    {
      "cell_type": "markdown",
      "metadata": {
        "id": "BHL4_SkSdtIo"
      },
      "source": [
        "# 學習目標：用Python程式語言實現從輸入到輸出的演算法\n",
        "1. 了解Python程式碼的組成\n",
        "2. 會使用各種資料類型來承接輸入資料\n",
        "3. 運用各種運算子組合成表示式，以進行計算\n",
        "4. 控制帶有決策與迴圈的流程\n",
        "5. 輸出運算結果的正確格式"
      ]
    },
    {
      "cell_type": "markdown",
      "metadata": {
        "id": "dQr3XGaBZ2sN"
      },
      "source": [
        "# 基礎程式設計-EE300044\n",
        "Fundamental Computer Programming(1)"
      ]
    },
    {
      "cell_type": "markdown",
      "metadata": {
        "id": "8_dCv93DaggV"
      },
      "source": [
        "## 第1週(9/12)"
      ]
    },
    {
      "cell_type": "markdown",
      "metadata": {
        "id": "oL1zKtjQfAKl"
      },
      "source": [
        "### W1 Essential-基本的\n",
        "* 啟思博的概念(Kissipo Learning)\n",
        "* KISS Principle: Colab + Github的使用\n",
        "* IPO model: input–process–output (輸入-處理-輸出) input()和print()\n",
        "* Anaconda 和Jupyter notebook\n",
        "* Hello World程式"
      ]
    },
    {
      "cell_type": "markdown",
      "metadata": {
        "id": "iZr8qGmnfrch"
      },
      "source": [
        "### W1 Advanced-進階的\n",
        "\n",
        "* 關於Python 程式語言\n",
        "* 不同Python編輯器的介紹:IDLE, Spyder, Visual Studio Code, PyCharm  \n",
        "* Python程式的執行 (Run)\n",
        "* Python程式的偵錯 (Debug)\n"
      ]
    },
    {
      "cell_type": "markdown",
      "source": [
        "## 第2週(9/17) 中秋節\n"
      ],
      "metadata": {
        "id": "_0NNXyrx1EvR"
      }
    },
    {
      "cell_type": "markdown",
      "metadata": {
        "id": "xb9VnB0RbVUA"
      },
      "source": [
        "## 第3週(9/24)\n"
      ]
    },
    {
      "cell_type": "markdown",
      "metadata": {
        "id": "diN5UD1bj_yM"
      },
      "source": [
        "### W3 Essential-基本的\n",
        "* Input: input()函數的使用和參數(prompt), 變數和資料型別(int, str), type()\n",
        "* Process: 指定敘述(assignment),表示式(expressions ), 算術運算子和運算優先順序, 標準庫math的應用\n",
        "* Output: print()函數的使用和參數(sep, end, file, flush)"
      ]
    },
    {
      "cell_type": "markdown",
      "metadata": {
        "id": "jFaMlSkm4yWY"
      },
      "source": [
        "### W3 Advanced-進階的\n",
        "* 多行的字串\n",
        "* 程式註解\n",
        "* MarkDown語法\n",
        "\n",
        "\n"
      ]
    },
    {
      "cell_type": "markdown",
      "metadata": {
        "id": "ecPQzBbNb0Tu"
      },
      "source": [
        "## 第4週(10/3)"
      ]
    },
    {
      "cell_type": "markdown",
      "metadata": {
        "id": "dnl0RBo86qPo"
      },
      "source": [
        "### W4 Essential-基本的\n",
        "* Input: 序列(List), 字串切割(str.split()), len()函數,\n",
        "* Process: for-loop, 多重指定敘述(multiple assignment), 型別轉換函數(int(), str(), float()),索引(Indexing)和切片(Slicing)\n",
        "* Output: f-格式化字串, print()的格式化輸出"
      ]
    },
    {
      "cell_type": "markdown",
      "metadata": {
        "id": "YIirtIFWoyjU"
      },
      "source": [
        "### W4 Advanced-進階的\n",
        "* 舊式字串格式化 (1) 百分比符號字串格式化(% string formatting) (2) str.format() 函數\n",
        "* 序列(List)的初始化和插入append()函數\n",
        "* Unpacking using *\n",
        "\n",
        "https://realpython.com/lessons/old-school-string-formatting-python/"
      ]
    },
    {
      "cell_type": "markdown",
      "metadata": {
        "id": "miwUKhHhb7xv"
      },
      "source": [
        "## 第5週(10/10)\n",
        "\n"
      ]
    },
    {
      "cell_type": "markdown",
      "metadata": {
        "id": "G_1TW9Q0o122"
      },
      "source": [
        "### W5 Advanced-進階的\n",
        "* 布林變數和布林邏輯\n",
        "* 內建函式—max()、min()、sum()"
      ]
    },
    {
      "cell_type": "markdown",
      "metadata": {
        "id": "exyh96iV5dqS"
      },
      "source": [
        "#### W5 Essential-基本的\n",
        "* Input: List, Tuple, Dict, Set資料結構, ,\n",
        "* Process: if條件式, 比較運算子, 布林值和布林邏輯\n",
        "* Output: Escape Sequence (逸出序列)"
      ]
    },
    {
      "cell_type": "markdown",
      "metadata": {
        "id": "YSx70i0WcXgS"
      },
      "source": [
        "## 第6週(10/15)"
      ]
    },
    {
      "cell_type": "markdown",
      "metadata": {
        "id": "quBmqskH9j4L"
      },
      "source": [
        "### W6 Essential-基本的\n",
        "* Input: map()函數的使用\n",
        "* Process: 字串函數, ascii函數, unicode函數，字串的索引(Indexing)和切片(Slicing)\n",
        "* Output: print()預設參數和非預設參數"
      ]
    },
    {
      "cell_type": "markdown",
      "metadata": {
        "id": "nz69c4k3o42N"
      },
      "source": [
        "### W6 Advanced-進階的\n",
        "* 運算函式—pow()、divmod()、round()"
      ]
    },
    {
      "cell_type": "markdown",
      "metadata": {
        "id": "Ed_386Z-cen1"
      },
      "source": [
        "## 第7週(10/22)"
      ]
    },
    {
      "cell_type": "markdown",
      "metadata": {
        "id": "ciAVGf06pVZA"
      },
      "source": [
        "### W9 Essential-基本的\n",
        "* Input: I/O函數(open() and read()), with/as的使用\n",
        "* Process: 資料排序, sordted()函數\n",
        "* Output: I/O函數(open() and write())"
      ]
    },
    {
      "cell_type": "code",
      "execution_count": null,
      "metadata": {
        "id": "ql9a477mbjcW"
      },
      "outputs": [],
      "source": []
    },
    {
      "cell_type": "markdown",
      "metadata": {
        "id": "fb-60p6-cj4P"
      },
      "source": [
        "## 第9週(11/7)"
      ]
    },
    {
      "cell_type": "markdown",
      "metadata": {
        "id": "DRcsG_AYp2kr"
      },
      "source": [
        "### W9 Advanced-進階的\n",
        "* os, glob, pathlib模組-Python Standard Library"
      ]
    },
    {
      "cell_type": "markdown",
      "metadata": {
        "id": "VdahQJ_bpVfT"
      },
      "source": []
    },
    {
      "cell_type": "markdown",
      "metadata": {
        "id": "XA9dJdbJcoVh"
      },
      "source": [
        "## 第10週(11/14)"
      ]
    },
    {
      "cell_type": "markdown",
      "metadata": {
        "id": "Fwx5qSAlpY8p"
      },
      "source": [
        "### W10 Essential-基本的\n",
        "* Input: 元組(Tuple)\n",
        "* Process: for-loop/while-loop, range()函數, enumerate()函數\n",
        "* Output:"
      ]
    },
    {
      "cell_type": "markdown",
      "metadata": {
        "id": "lSWfrdm-p7KL"
      },
      "source": [
        "### W10 Advanced-進階的\n",
        "* Zipping and unzipping lists and iterables\n",
        "* 迭代器工具(itertools)-Python Standard Library\n",
        "* Sliding windows (n-grams) using zip and iterators\n",
        "* time.sleep() : 讓程式暫停幾秒鐘(需先匯入time模組)"
      ]
    },
    {
      "cell_type": "markdown",
      "metadata": {
        "id": "d17CjXVwct-_"
      },
      "source": [
        "## 第11週(11/21)"
      ]
    },
    {
      "cell_type": "markdown",
      "metadata": {
        "id": "NKE85WL3pa15"
      },
      "source": [
        "### W11 Essential-基本的\n",
        "* Input: 字典(dictionary)\n",
        "* Process: 流程控制：\n",
        "* Output:"
      ]
    },
    {
      "cell_type": "markdown",
      "metadata": {
        "id": "434IteGqp-Mh"
      },
      "source": [
        "### W11 Advanced-進階的\n",
        "* 使用lambda函數\n",
        "* Inverting a dictionary using zip\n",
        "* 生成式(Comprehension)"
      ]
    },
    {
      "cell_type": "markdown",
      "metadata": {
        "id": "6sQ_-zcrcyPd"
      },
      "source": [
        "## 第12週(11/28)-M2Test模組二測驗"
      ]
    },
    {
      "cell_type": "markdown",
      "metadata": {
        "id": "o_peQOAxpcVN"
      },
      "source": [
        "### W12 Essential-基本的\n",
        "* Input: 集合(set)\n",
        "* Process: 迴圈控制Loop controls(break, continue pass ), 例外處理 (Exception)\n",
        "* Output:"
      ]
    },
    {
      "cell_type": "markdown",
      "metadata": {
        "id": "FvM6I6PVp_aJ"
      },
      "source": [
        "### W12 Advanced-進階的\n",
        "* Loop with zip\n",
        "* 例外處理 (Exception)"
      ]
    },
    {
      "cell_type": "markdown",
      "metadata": {
        "id": "aURjoceCoLtM"
      },
      "source": [
        "![](https://assets.website-files.com/5e875053aa63f43b4cb8c9d2/5e9306d896104684f079b7c6_training.png)"
      ]
    },
    {
      "cell_type": "markdown",
      "metadata": {
        "id": "KiaB3XDKaR6Z"
      },
      "source": [
        "# 基礎程式設計(三)-EE300046\n",
        "Fundamental Computer Programming(3)"
      ]
    },
    {
      "cell_type": "markdown",
      "metadata": {
        "id": "IBcqGdfusT3o"
      },
      "source": [
        "<img src=\"https://hips.hearstapps.com/hmg-prod.s3.amazonaws.com/images/heds-part-three-1598021900.png\" alt=\"drawing\" height=\"100\"/>"
      ]
    },
    {
      "cell_type": "markdown",
      "metadata": {
        "id": "edRJKoeEeerV"
      },
      "source": [
        "## 第13週(12/5)"
      ]
    },
    {
      "cell_type": "markdown",
      "metadata": {
        "id": "Xuv0KaIRejSi"
      },
      "source": [
        "## 第14週(12/12)"
      ]
    },
    {
      "cell_type": "markdown",
      "metadata": {
        "id": "5LHW75mXpdz_"
      },
      "source": [
        "### W14 Essential-基本的\n",
        "* Input:\n",
        "* Process: 亂數(random), 函數的定義、呼叫和傳回值, function definition and call,\n",
        "* Output:"
      ]
    },
    {
      "cell_type": "markdown",
      "metadata": {
        "id": "3ZVqRPzHqC-u"
      },
      "source": [
        "### W14 Advanced-進階的\n",
        "* 參數預設資料\n",
        "* 參數名稱對應\n",
        "* 呼叫任意長度參數(函數呼叫的*t參數型式)\n",
        "* 呼叫任意長度參數(函數呼叫的**t參數型式)\n",
        "* 任意長度的參數(函數定義的*t參數型式)\n",
        "* 全域與區域變數\n"
      ]
    },
    {
      "cell_type": "markdown",
      "metadata": {
        "id": "fnRUNYXGelqH"
      },
      "source": [
        "## 第15週(12/19)"
      ]
    },
    {
      "cell_type": "markdown",
      "metadata": {
        "id": "IczLsS4zpfnl"
      },
      "source": [
        "### W15 Essential-基本的\n",
        "* Input:\n",
        "* Process: 遞迴函數 (Recursion), 函數的預設參數, 函數的多重傳回值\n",
        "* Output:"
      ]
    },
    {
      "cell_type": "markdown",
      "metadata": {
        "id": "VwILzXp5qEzU"
      },
      "source": [
        "### W15 Advanced-進階的\n",
        "* LeetCode(1) Two Sum\n",
        "* datetime & calendar\n",
        "* eval()和exec()函數"
      ]
    },
    {
      "cell_type": "markdown",
      "metadata": {
        "id": "oDtBV4Vceodp"
      },
      "source": [
        "## 第16週(12/26)"
      ]
    },
    {
      "cell_type": "markdown",
      "metadata": {
        "id": "vsCA0BAZphKz"
      },
      "source": [
        "### W16 Essential-基本的\n",
        "* Input:   \n",
        "* Process: 類別(Class), super()函數, Decorator, 生成器(Generator)\n",
        "* Output:"
      ]
    },
    {
      "cell_type": "markdown",
      "metadata": {
        "id": "SWNJ7WGxqGYq"
      },
      "source": [
        "### W16 Advanced-進階的\n",
        "* LeetCode(2) Add Two Numbers\n",
        "* 正規表示式(Regular Expression)-Python Standard Library\n"
      ]
    },
    {
      "cell_type": "markdown",
      "metadata": {
        "id": "-9H-o-CyeryO"
      },
      "source": [
        "## 第17週(1/2)"
      ]
    },
    {
      "cell_type": "markdown",
      "metadata": {
        "id": "FDthFP4fpkBE"
      },
      "source": [
        "### W17 Essential-基本的\n",
        "* Input: 模組(Module)\n",
        "* Process: 時間和日期計算\n",
        "* Output: 時間和日期的格式化"
      ]
    },
    {
      "cell_type": "markdown",
      "metadata": {
        "id": "Hfs2RrmjpluK"
      },
      "source": [
        "### W17 Advanced-進階的\n",
        "* LeetCode(15) 3Sum\n",
        "* global"
      ]
    },
    {
      "cell_type": "markdown",
      "metadata": {
        "id": "J9fyFgopexMq"
      },
      "source": [
        "## 第18週(1/19)-M3Test模組三測驗"
      ]
    },
    {
      "cell_type": "markdown",
      "metadata": {
        "id": "5Dh_A2sbheDA"
      },
      "source": [
        "![](https://assets.website-files.com/5e875053aa63f43b4cb8c9d2/5e9306d896104684f079b7c6_training.png)"
      ]
    }
  ],
  "metadata": {
    "colab": {
      "provenance": [],
      "toc_visible": true
    },
    "kernelspec": {
      "display_name": "Python 3 (ipykernel)",
      "language": "python",
      "name": "python3"
    },
    "language_info": {
      "codemirror_mode": {
        "name": "ipython",
        "version": 3
      },
      "file_extension": ".py",
      "mimetype": "text/x-python",
      "name": "python",
      "nbconvert_exporter": "python",
      "pygments_lexer": "ipython3",
      "version": "3.9.7"
    }
  },
  "nbformat": 4,
  "nbformat_minor": 0
}