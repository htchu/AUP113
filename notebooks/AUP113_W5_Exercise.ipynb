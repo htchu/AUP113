{
  "cells": [
    {
      "cell_type": "markdown",
      "metadata": {
        "id": "9BqahVUKa41l"
      },
      "source": [
        "# AU Fundamentals of Python Programming-111-Exercise"
      ]
    },
    {
      "cell_type": "markdown",
      "metadata": {
        "id": "5DaiZx_On0Dn"
      },
      "source": [
        "### M1-Q12 計算總和、乘積、差、商和餘數 \n",
        "(時間限制：2秒)\n",
        "\n",
        "問題描述： \n",
        "撰寫一個程式，要求使用者輸入兩個數字，再從使用者取得這兩個數字，然後印出這兩個數字的總和、乘積、差、商、和餘數。\n",
        "\n",
        "輸入說明： \n",
        "依序輸入兩個整數(int)，整數範圍不超過 1000 。\n",
        "\n",
        "輸出說明： \n",
        "輸出總和(int)、乘積(int)、差(int)、商(int)和餘數(int)(注意格式)，最後必須有換行字元。\n",
        "\n",
        "範例：\n",
        "\n",
        "| Sample Input:   |      Sample Output:      |\n",
        "|:----------------|:-------------------------|\n",
        "|7  |7+3=10 |\n",
        "|3 |7*3=21  |\n",
        "| |7-3=4  |\n",
        "| |7/3=2…1⏎  |"
      ]
    },
    {
      "cell_type": "markdown",
      "metadata": {
        "id": "wFPOypRF5cdJ"
      },
      "source": [
        "<font size=\"10\">&#x0210B;</font>int(祕技):\n",
        "\n",
        "__Input:__ 使用int()函數將輸入的字串轉換成整數變數\n",
        "\n",
        "__Process:__ 簡單的加減乘除法計算\n",
        "\n",
        "__Output:__ 套用f-string"
      ]
    },
    {
      "cell_type": "code",
      "execution_count": null,
      "metadata": {
        "id": "b1fqjkjLn4xy"
      },
      "outputs": [],
      "source": [
        "#程式由此開始寫\n"
      ]
    },
    {
      "cell_type": "markdown",
      "metadata": {
        "id": "W1fnMCwwoIdG"
      },
      "source": [
        "### M1-Q16 圓柱體積計算\n",
        " (時間限制：2秒)\n",
        "\n",
        "問題描述：\n",
        "請寫一個程式讓使用者輸入圓的半徑(float)與高(float)，程式輸出該圓的體積 (float)。 $π×r^2×h$\n",
        "\n",
        "輸入說明： \n",
        "輸入半徑(float)與高度 (float)。\n",
        "\n",
        "輸出說明： \n",
        "輸出該圓的體積(float)，最後必須有換行字元。\n",
        "\n",
        "範例：\n",
        "\t\n",
        "| Sample Input:   |      Sample Output:      |\n",
        "|:----------------|:-------------------------|\n",
        "|18.9  12|13466.49974146572⏎ |\n",
        "|3.2 12|386.0389052731138⏎ |\n"
      ]
    },
    {
      "cell_type": "markdown",
      "metadata": {
        "id": "HazWTemw5fuf"
      },
      "source": [
        "<font size=\"10\">&#x0210B;</font>int(祕技):\n",
        "\n",
        "__Input:__ 使用float()函數將輸入的字串轉換成float變數\n",
        "\n",
        "__Process:__ 簡單的加減乘除法計算和math.pi常數\n",
        "\n",
        "__Output:__ 套用f-string"
      ]
    },
    {
      "cell_type": "code",
      "execution_count": null,
      "metadata": {
        "id": "k7gOi_pPoQhP"
      },
      "outputs": [],
      "source": [
        "#程式由此開始寫\n"
      ]
    },
    {
      "cell_type": "markdown",
      "metadata": {
        "id": "2t3a_fSqoQA_"
      },
      "source": [
        "### M1-Q17 成績換算 \n",
        "(時間限制：2秒)\n",
        "\n",
        "問題描述：\n",
        "每學期期末是老師們的頭痛時刻，老師用心授課可是難免遇到同學習成效不佳情況，老師為了不想背著「大刀」名號在系上行走往往會使用調整分數招式。請寫一個程式讓使用者輸入成績 (int)，程式輸出開根號乘上10的新成績 (int)。\n",
        "\n",
        "輸入說明： \n",
        "輸入成績 (int)。\n",
        "\n",
        "輸出說明：\n",
        "輸出新成績(int)，最後必須有換行字元。\n",
        "\n",
        "範例：\n",
        "\n",
        "| Sample Input:   |      Sample Output:      |\n",
        "|:----------------|:-------------------------|\n",
        "|36| 60⏎|\n",
        "|49| 70⏎|"
      ]
    },
    {
      "cell_type": "markdown",
      "metadata": {
        "id": "JR4gU4Ch5gvO"
      },
      "source": [
        "<font size=\"10\">&#x0210B;</font>int(祕技):\n",
        "\n",
        "__Input:__ 使用int()函數將輸入的字串轉換成整數變數\n",
        "\n",
        "__Process:__ 簡單的加減乘除法計算和\n",
        "\n",
        "__Output:__ 套用f-string"
      ]
    },
    {
      "cell_type": "code",
      "execution_count": null,
      "metadata": {
        "id": "VLPOvaKNoT5D"
      },
      "outputs": [],
      "source": [
        "#程式由此開始寫\n"
      ]
    },
    {
      "cell_type": "markdown",
      "metadata": {
        "id": "eLEytgbGoUAP"
      },
      "source": [
        "### M1-Q18 區間公式\n",
        "(時間限制：2秒)\n",
        "問題描述： \n",
        "讓使用者輸入 x，並計算 y 值輸出，其公式如下：\n",
        "\n",
        "$y=3×x^2 $若  x <  -1\n",
        "\n",
        "$y=x^3+3×x-3 $ 若    -1 ≤ x ≤ 1\n",
        "\n",
        "$y=2×x +3$ 若  x >  1\n",
        "\n",
        "輸入說明： \n",
        "輸入一個整數 x (int)。\n",
        "\n",
        "輸出說明： \n",
        "依照公式輸出 y 值，最後必須有換行字元。\n",
        "\n",
        "範例：\n",
        "\n",
        "| Sample Input:   |      Sample Output:      |\n",
        "|:----------------|:-------------------------|\n",
        "|-5| 75⏎|"
      ]
    },
    {
      "cell_type": "markdown",
      "metadata": {
        "id": "qfA10qxCe58q"
      },
      "source": [
        "<font size=\"10\">&#x0210B;</font>int(祕技):\n",
        "\n",
        "__Input:__ 使用int()函數將輸入的字串轉換成整數變數\n",
        "\n",
        "__Process:__ 簡單的加減乘除法計算和\n",
        "\n",
        "__Output:__ 套用f-string"
      ]
    },
    {
      "cell_type": "code",
      "execution_count": null,
      "metadata": {
        "id": "yB1nC7juoXYn"
      },
      "outputs": [],
      "source": [
        "#程式由此開始寫\n"
      ]
    },
    {
      "cell_type": "markdown",
      "metadata": {
        "id": "QM6JY0ccoXg9"
      },
      "source": [
        "### M1-Q19 標準體重計算 \n",
        "(時間限制：2秒)\n",
        "\n",
        "問題描述：\n",
        "已知男生標準體重＝(身高－80 )×0.7；女生標準體重＝(身高－70) × 0.6；試寫一個程式可以計算男生女生的標準體重\n",
        "\n",
        "輸入說明： \n",
        "輸入兩個數值，依序代表為身高(int)及性別(int)（1代表男性；2代表女性）。\n",
        "\n",
        "輸出說明： \n",
        "輸出標準體重，浮點數(float)取至第一位，最後必須有換行字元。\n",
        "\n",
        "範例：\n",
        "\n",
        "| Sample Input:   |      Sample Output:      |\n",
        "|:----------------|:-------------------------|\n",
        "|172  1|64.4⏎|\n",
        "|165  2|57.0⏎|\n"
      ]
    },
    {
      "cell_type": "markdown",
      "metadata": {
        "id": "pTM__Nqu5i47"
      },
      "source": [
        "<font size=\"10\">&#x0210B;</font>int(祕技):\n",
        "\n",
        "__Input:__ 使用int()函數將輸入的字串轉換成整數變數\n",
        "\n",
        "__Process:__ 簡單的加減乘除法計算和\n",
        "\n",
        "__Output:__ 套用f-string,取到小數點以下第1位的格式是.1f"
      ]
    },
    {
      "cell_type": "code",
      "execution_count": null,
      "metadata": {
        "id": "GsBM2GYEoavH"
      },
      "outputs": [],
      "source": [
        "#程式由此開始寫\n"
      ]
    },
    {
      "cell_type": "markdown",
      "metadata": {
        "id": "RLZCfItNoa3c"
      },
      "source": [
        "### M1-Q20 找零錢問題\n",
        "(時間限制：2秒)\n",
        "\n",
        "問題描述： \n",
        "假設銅板有1元、5元、50元共三種，媽媽請小明去菜市場買水果，給了小明 n 元，且媽媽交待，要老闆找小明的零錢的數目要最少，而小明到了水果攤買了 a_1顆蘋果，a_2顆柳丁，及 a_3 顆桃子，1顆蘋果15元，1顆柳丁20元，1顆桃子30元，請問老問需找多少個1元、5元、50元，其銅板數目最少。\n",
        "\n",
        "輸入說明： \n",
        "先輸入媽媽給小明多少錢 n，接著輸入 $a_1, a_2, a_3$， 在此 $n, a_1, a_2, a_3$ 為整數 (int)，且 $a_1×15+a_2×20+a_3×30$ 小於或等於 n 。\n",
        "\n",
        "輸出說明： \n",
        "列出共找小明多少個 1元，5元 及 50元，若帶的錢不夠買水果，則顯示”0”，最後必須有換行字元。\n",
        "\n",
        "範例：\n",
        "\n",
        "\n",
        "| Sample Input:   |      Sample Output:      |\n",
        "|:----------------|:-------------------------|\n",
        "|500  1  2  3|0|\n",
        "||1|\n",
        "||7⏎|"
      ]
    },
    {
      "cell_type": "markdown",
      "metadata": {
        "id": "M6B5AB6o5lAN"
      },
      "source": [
        "<font size=\"10\">&#x0210B;</font>int(祕技):\n",
        "\n",
        "__Input:__ 使用split()切開輸入字串，再用 int()函數將輸入的字串轉換成整數變數\n",
        "\n",
        "__Process:__ 簡單的加減乘除法計算和\n",
        "\n",
        "__Output:__ 套用f-string"
      ]
    },
    {
      "cell_type": "code",
      "execution_count": null,
      "metadata": {
        "id": "aCMGzsQVo6Wl"
      },
      "outputs": [],
      "source": [
        "#程式由此開始寫\n"
      ]
    },
    {
      "cell_type": "markdown",
      "metadata": {
        "id": "3lbJkCNvo7Cx"
      },
      "source": [
        "### M1-Q21 判斷座標是否在圓形的範圍內 \n",
        "(時間限制：2秒)\n",
        "\n",
        "問題描述： \n",
        "一圓形直徑為200，且中心座標為(0,0)。請寫一支程式可以輸入點的座標，並判斷該點是否在圓形的範圍內。如果點的位置剛好在邊界的話也算是在圓形範圍內(例：x = 100， y = 0)\n",
        "\n",
        "輸入說明： \n",
        "輸入一整數座標，依序分 x (int)與 y (int)。\n",
        "\n",
        "輸出說明： \n",
        "輸出此座標位置在圓內(inside)或圓外(outside)訊息，最後必須有換行字元。\n",
        "\n",
        "範例：\n",
        "\n",
        "| Sample Input:   |      Sample Output:      |\n",
        "|:----------------|:-------------------------|\n",
        "|50  50|inside⏎ |\n",
        "|50  200|outside⏎ |\n"
      ]
    },
    {
      "cell_type": "markdown",
      "metadata": {
        "id": "toNJyoyJ5l4f"
      },
      "source": [
        "<font size=\"10\">&#x0210B;</font>int(祕技):\n",
        "\n",
        "__Input:__ 使用int()函數將輸入的字串轉換成整數變數\n",
        "\n",
        "__Process:__ 簡單的加減乘除法計算和\n",
        "\n",
        "__Output:__ print()"
      ]
    },
    {
      "cell_type": "code",
      "execution_count": null,
      "metadata": {
        "id": "lrU2le4qo92h"
      },
      "outputs": [],
      "source": [
        "#程式由此開始寫\n",
        "\n"
      ]
    },
    {
      "cell_type": "markdown",
      "metadata": {
        "id": "P6LRCYEOo984"
      },
      "source": [
        "### M1-Q22 停車費計算 \n",
        "(時間限制：2秒)\n",
        "\n",
        "問題描述：\n",
        "假設某個停車場的費率是停車2小時以內，每半小時30元，超過2小時，但未滿4小時的部份，每半小時40元，超過4小時以上的部份，每半小時60元，未滿半小時部分不計費。如果您從早10點23分停到午3點20分，請撰寫程式計算共需繳交的停車費。\n",
        "\n",
        "輸入說明： \n",
        "輸入兩組時間時(int)與分(int)，分別為開始與離開時間，24小時制。\n",
        "\n",
        "輸出說明：\n",
        " 輸出停車費(int)，最後必須有換行字元。\n",
        "\n",
        "範例：\n",
        "\n",
        "| Sample Input:   |      Sample Output:      |\n",
        "|:----------------|:-------------------------|\n",
        "|10  23 |340⏎ |\n",
        "|15  20 | |\n",
        "|11  11 |880⏎ |\n",
        "|20  30 | |"
      ]
    },
    {
      "cell_type": "markdown",
      "metadata": {
        "id": "tRButnnC5ni1"
      },
      "source": [
        "<font size=\"10\">&#x0210B;</font>int(祕技):\n",
        "\n",
        "__Input:__ 使用int()函數將輸入的字串轉換成整數變數\n",
        "\n",
        "__Process:__ 簡單的加減乘除法計算和\n",
        "\n",
        "__Output:__ print()"
      ]
    },
    {
      "cell_type": "code",
      "execution_count": null,
      "metadata": {
        "id": "35UwZJeepCS7"
      },
      "outputs": [],
      "source": [
        "#程式由此開始寫\n"
      ]
    },
    {
      "cell_type": "markdown",
      "metadata": {
        "id": "unrF_cTNpAtV"
      },
      "source": [
        "### M1-Q23 季節判定 \n",
        "(時間限制：2秒)\n",
        "\n",
        "問題描述：\n",
        "試撰寫一程式，可輸入月份，然後判斷其所屬的季節 3 ~ 5 月為春季，6 ~ 8 月為夏季， 9 ~ 11 月為秋季， 12 ~ 2 月為冬季。\n",
        "\n",
        "輸入說明： \n",
        "輸入月份(int)。\n",
        "\n",
        "輸出說明： \n",
        "輸出該月份的季節(String)，  3 ~ 5 月為春季(Spring)， 6 ~ 8 月為夏季(Summer)， 9 ~ 11 月為秋季(Autumn)，12 ~ 2 月為冬季(Winter)，最後必須有換行字元。\n",
        "\n",
        "範例：\n",
        "\n",
        "| Sample Input:   |      Sample Output:      |\n",
        "|:----------------|:-------------------------|\n",
        "|3|Spring⏎ |\n",
        "|10|Autumn⏎|\n"
      ]
    },
    {
      "cell_type": "markdown",
      "metadata": {
        "id": "8cMaAkhe5opV"
      },
      "source": [
        "<font size=\"10\">&#x0210B;</font>int(祕技):\n",
        "\n",
        "__Input:__ 使用int()函數將輸入的字串轉換成整數變數\n",
        "\n",
        "__Process:__ if判斷式( a< var <b)\n",
        "\n",
        "__Output:__ print()"
      ]
    },
    {
      "cell_type": "code",
      "execution_count": null,
      "metadata": {
        "id": "xtZmXQB3pF5n"
      },
      "outputs": [],
      "source": [
        "#程式由此開始寫\n"
      ]
    },
    {
      "cell_type": "markdown",
      "metadata": {
        "id": "UO2hzx41pPao"
      },
      "source": [
        "### M1-Q26 計算電費 \n",
        "(時間限制：2秒)\n",
        "\n",
        "問題描述：\n",
        "輸入所使用的度數，換算夏月及非夏月之電費金額\n",
        "\n",
        "| 每度(元):   |      夏月:      |      非夏月:      |\n",
        "|:----------------|:-------------------------|:-------------------------|\n",
        "|120 度以下部分\t| 2.10 | 2.10 |\n",
        "|121-330 度部分\t| 3.02 | 2.68|\n",
        "|331-500 度部分\t| 4.39 | 3.61|\n",
        "|501-700 度部分\t| 4.97 | 4.01|\n",
        "|701 度以上部分\t| 5.63 | 4.50|\n",
        "\n",
        "\n",
        "輸入說明： \n",
        "使用的電力度數(int)。\n",
        "\n",
        "輸出說明： \n",
        "夏月與非夏月的金額(float)，請輸出至小數點後兩位，最後必須有換行字元。\n",
        "\n",
        "範例：\n",
        "\n",
        "| Sample Input:   |      Sample Output:      |\n",
        "|:----------------|:-------------------------|\n",
        "|525\t| 1756.75 |\n",
        "|   |1528.75⏎ |\n"
      ]
    },
    {
      "cell_type": "markdown",
      "metadata": {
        "id": "fM3GyWY75teZ"
      },
      "source": [
        "<font size=\"10\">&#x0210B;</font>int(祕技):\n",
        "\n",
        "__Input:__ 使用int()函數將輸入的字串轉換成整數變數\n",
        "\n",
        "__Process:__ 判斷條件\n",
        "\n",
        "__Output:__ print()"
      ]
    },
    {
      "cell_type": "code",
      "execution_count": null,
      "metadata": {
        "id": "VSxFz3sDpSnn"
      },
      "outputs": [],
      "source": [
        "#程式由此開始寫\n"
      ]
    },
    {
      "cell_type": "markdown",
      "metadata": {
        "id": "hKL556c6pYDv"
      },
      "source": [
        "### M1-Q29 奇偶數\n",
        "(時間限制：2秒)\n",
        "\n",
        "問題描述： \n",
        "輸入一正整數，判斷其奇偶數。\n",
        "\n",
        "輸入說明： \n",
        "輸入一正整數 (int)。\n",
        "\n",
        "輸出說明： \n",
        "判斷其奇偶數，最後必須有換行字元。\n",
        "\n",
        "範例：\n",
        "\n",
        "| Sample Input:   |      Sample Output:      |\n",
        "|:----------------|:-------------------------|\n",
        "|40|Even⏎ |\n",
        "|39|Odd⏎ |"
      ]
    },
    {
      "cell_type": "markdown",
      "metadata": {
        "id": "Bkr0PCUb5y9R"
      },
      "source": [
        "<font size=\"10\">&#x0210B;</font>int(祕技):\n",
        "\n",
        "__Input:__ 使用int()函數將輸入的字串轉換成整數變數\n",
        "\n",
        "__Process:__ 判斷條件\n",
        "\n",
        "__Output:__ print()"
      ]
    },
    {
      "cell_type": "code",
      "execution_count": null,
      "metadata": {
        "id": "gER4p4CEpa_P"
      },
      "outputs": [],
      "source": [
        "#程式由此開始寫\n"
      ]
    },
    {
      "cell_type": "markdown",
      "metadata": {
        "id": "MJjnuAI6pbf8"
      },
      "source": [
        "### M1-Q30 三角形判定\n",
        "(時間限制：2秒)\n",
        "\n",
        "問題描述：\n",
        "讓使用者輸入三角形的三邊長a, b, c (且 a ≤ b ≤ c ) ，判斷並輸出 a, b, c 是否為合法三邊長。\n",
        "\n",
        "輸入說明： \n",
        "輸入三角形的三邊長 a, b, c (且a ≤ b ≤ c )。\n",
        "\n",
        "輸出說明： \n",
        "輸出是否為合法三邊長，最後必須有換行字元。\n",
        "\n",
        "範例：\n",
        "\n",
        "| Sample Input:   |      Sample Output:      |\n",
        "|:----------------|:-------------------------|\n",
        "|7 9 8\t|False⏎ |\n",
        "|4 1 2\t|False⏎ |\n",
        "|3 4 5  |True⏎ |\n",
        "|1 2 3\t|False⏎ |"
      ]
    },
    {
      "cell_type": "markdown",
      "metadata": {
        "id": "67K5wKrB50wb"
      },
      "source": [
        "<font size=\"10\">&#x0210B;</font>int(祕技):\n",
        "\n",
        "__Input:__ 使用split()切開輸入字串，再用 int()函數將輸入的字串轉換成整數變數\n",
        "\n",
        "__Process:__ 將條件表示成if-condition\n",
        "\n",
        "__Output:__ 套用f-string"
      ]
    },
    {
      "cell_type": "code",
      "execution_count": null,
      "metadata": {
        "id": "fUbeGeMSpfWX"
      },
      "outputs": [],
      "source": [
        "#程式由此開始寫\n"
      ]
    }
  ],
  "metadata": {
    "colab": {
      "collapsed_sections": [],
      "name": "AUP110_M1Problems(32).ipynb",
      "provenance": [],
      "toc_visible": true
    },
    "kernelspec": {
      "display_name": "Python 3",
      "name": "python3"
    },
    "language_info": {
      "name": "python"
    }
  },
  "nbformat": 4,
  "nbformat_minor": 0
}
